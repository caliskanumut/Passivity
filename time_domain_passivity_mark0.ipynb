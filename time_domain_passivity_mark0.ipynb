{
 "cells": [
  {
   "cell_type": "code",
   "execution_count": 1,
   "metadata": {},
   "outputs": [],
   "source": [
    "import numpy as np\n",
    "import matplotlib.pyplot as plt\n",
    "from scipy.integrate import odeint\n",
    "from control.matlab import *"
   ]
  },
  {
   "cell_type": "code",
   "execution_count": 2,
   "metadata": {},
   "outputs": [],
   "source": [
    "def model(z,u,k,Fext):\n",
    "    x1 = z[0]\n",
    "    x2 = z[1]\n",
    "    x3 = z[2]\n",
    "    x4 = z[3]\n",
    "    \n",
    "    m1 = 0.33 #  kg\n",
    "    m2 = 2 # kg\n",
    "    b = 126.0 # Ns/m\n",
    "    \n",
    "    \n",
    "    dx1dt = x2\n",
    "    dx2dt = -(k/m1)*x1 + (k/m1)*x3 - (b/m1)*x2 + u/m1\n",
    "    dx3dt = x4\n",
    "    dx4dt =  (k/m2)*x1-(k/m2)*x3 - Fext/m2\n",
    "    \n",
    "    return [dx1dt,dx2dt,dx3dt,dx4dt]"
   ]
  },
  {
   "cell_type": "code",
   "execution_count": 8,
   "metadata": {},
   "outputs": [],
   "source": [
    "def forwardeuler(dz,z,step):\n",
    "    z = z + step * dz\n",
    "    return z"
   ]
  },
  {
   "cell_type": "code",
   "execution_count": 9,
   "metadata": {},
   "outputs": [],
   "source": [
    "#main function\n",
    "\n",
    "deltat = 0.0001 #time step\n",
    "tf = 20\n",
    "ti = 0\n",
    "n =  int(((tf-ti)/deltat) + 1) # number ıf steps\n",
    "t = np.linspace(ti,tf,n)\n",
    "Fext = np.zeros(n)\n",
    "Fext[101] = 10\n",
    "z =  np.zeros(4)\n",
    "\n",
    "k = 5000.0 # Nm\n",
    "u = 0"
   ]
  },
  {
   "cell_type": "code",
   "execution_count": 10,
   "metadata": {},
   "outputs": [],
   "source": [
    "for i in range(n):\n",
    "    dz = model(z,u,k,Fext[i])\n",
    "    dz = np.array(dz)\n",
    "    z =  forwardeuler(dz, z, deltat)\n",
    "    Fm = k * (z[0]-z[2])"
   ]
  }
 ],
 "metadata": {
  "kernelspec": {
   "display_name": "Python 3.7.6 64-bit ('base': conda)",
   "language": "python",
   "name": "python37664bitbasecondad0da69248b054e87b5ddaa5c9e983988"
  },
  "language_info": {
   "codemirror_mode": {
    "name": "ipython",
    "version": 3
   },
   "file_extension": ".py",
   "mimetype": "text/x-python",
   "name": "python",
   "nbconvert_exporter": "python",
   "pygments_lexer": "ipython3",
   "version": "3.7.6"
  }
 },
 "nbformat": 4,
 "nbformat_minor": 2
}
