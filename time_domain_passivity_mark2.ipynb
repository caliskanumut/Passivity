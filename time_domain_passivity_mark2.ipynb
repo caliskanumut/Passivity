{
 "cells": [
  {
   "cell_type": "code",
   "execution_count": 1,
   "metadata": {},
   "outputs": [],
   "source": [
    "import numpy as np\n",
    "import matplotlib.pyplot as plt\n",
    "from scipy.integrate import odeint\n",
    "from control.matlab import *"
   ]
  },
  {
   "cell_type": "code",
   "execution_count": 2,
   "metadata": {},
   "outputs": [],
   "source": [
    "def model(z,u,k,Fext):\n",
    "    x1 = z[0]\n",
    "    x2 = z[1]\n",
    "    x3 = z[2]\n",
    "    x4 = z[3]\n",
    "    \n",
    "    m1 = 0.33 #  kg\n",
    "    m2 = 2 # kg\n",
    "    b = 126.0 # Ns/m\n",
    "    \n",
    "    \n",
    "    dx1dt = x2\n",
    "    dx2dt = -(k/m1)*x1 + (k/m1)*x3 - (b/m1)*x2 + u/m1\n",
    "    dx3dt = x4\n",
    "    dx4dt =  (k/m2)*x1-(k/m2)*x3 - Fext/m2\n",
    "    \n",
    "    return [dx1dt,dx2dt,dx3dt,dx4dt]"
   ]
  },
  {
   "cell_type": "code",
   "execution_count": 3,
   "metadata": {},
   "outputs": [],
   "source": [
    "def forwardeuler(dz,z,step):\n",
    "    z = z + step * dz\n",
    "    return z\n"
   ]
  },
  {
   "cell_type": "code",
   "execution_count": 4,
   "metadata": {},
   "outputs": [],
   "source": [
    "def admittancemodel(x,e,Kd,Dd):\n",
    "    dx = (e - Kd*x)/Dd\n",
    "    return dx"
   ]
  },
  {
   "cell_type": "code",
   "execution_count": 5,
   "metadata": {},
   "outputs": [],
   "source": [
    "def admitcont(Fh,Fmeas,step,posr):\n",
    "    Kd = 100\n",
    "    Dd = 0\n",
    "    #dz =  admittancemodel(posr,Fh-Fmeas,Kd,Dd)\n",
    "    posrd = (Fh-Fmeas)/Kd\n",
    "    \n",
    "    return posrd"
   ]
  },
  {
   "cell_type": "code",
   "execution_count": 6,
   "metadata": {},
   "outputs": [],
   "source": [
    "def poscont(x1,x2,posr,posrd,step):\n",
    "    Kp = 0#N/m\n",
    "    Kd = 300#Ns/m\n",
    "    posr = forwardeuler(posrd,posr,step)\n",
    "      \n",
    "    u = Kp*(posr - x1) + Kd*(posrd - x2)\n",
    "    return u,posr\n",
    "    "
   ]
  },
  {
   "cell_type": "code",
   "execution_count": 7,
   "metadata": {},
   "outputs": [],
   "source": [
    "#main function\n",
    "\n",
    "deltat = 0.0001 #time step\n",
    "tf = 10\n",
    "ti = 0\n",
    "n =  int(((tf-ti)/deltat) + 1) # number ıf steps\n",
    "t = np.linspace(ti,tf,n)\n",
    "Fext = np.zeros(n)\n",
    "Fext[101:n] = 10\n",
    "#Fext = 10*np.sin(5*t)\n",
    "z =  np.zeros(4)\n",
    "\n",
    "k = 5000.0 # Nm\n",
    "u = 0\n",
    "posr = 0\n",
    "uarr = np.zeros(n)\n",
    "Fmarr = np.zeros(n)\n",
    "x1 = np.zeros(n)\n",
    "x2 = np.zeros(n)\n",
    "x3 = np.zeros(n)\n",
    "x4 = np.zeros(n)"
   ]
  },
  {
   "cell_type": "code",
   "execution_count": 8,
   "metadata": {
    "scrolled": true
   },
   "outputs": [],
   "source": [
    "for i in range(n):\n",
    "    dz = model(z,u,k,Fext[i])\n",
    "    dz = np.array(dz)\n",
    "    z =  forwardeuler(dz, z, deltat)\n",
    "    Fm = k * (z[0]-z[2])\n",
    "    posrd = admitcont(Fext[i],Fm,deltat, posr) \n",
    "    u,posr = poscont(z[0],z[1],posr,posrd,deltat)\n",
    "    uarr[i] = u\n",
    "    Fmarr[i] = Fm\n",
    "    x1[i] = z[0]\n",
    "    x2[i] = z[1]\n",
    "    x3[i] = z[2]\n",
    "    x4[i] = z[3]"
   ]
  },
  {
   "cell_type": "code",
   "execution_count": 9,
   "metadata": {},
   "outputs": [
    {
     "data": {
      "text/plain": [
       "<matplotlib.legend.Legend at 0x7f0372acca50>"
      ]
     },
     "execution_count": 9,
     "metadata": {},
     "output_type": "execute_result"
    },
    {
     "name": "stderr",
     "output_type": "stream",
     "text": [
      "/home/umut/anaconda3/lib/python3.7/site-packages/IPython/core/pylabtools.py:132: UserWarning: Creating legend with loc=\"best\" can be slow with large amounts of data.\n",
      "  fig.canvas.print_figure(bytes_io, **kw)\n"
     ]
    },
    {
     "data": {
      "image/png": "[encoded data removed]",
      "text/plain": [
       "<Figure size 432x288 with 1 Axes>"
      ]
     },
     "metadata": {
      "needs_background": "light"
     },
     "output_type": "display_data"
    }
   ],
   "source": [
    "plt.figure(1)\n",
    "plt.xlabel(\"time (s)\")\n",
    "plt.xlim(-0.001,1)\n",
    "plt.plot(t,Fext,label= 'Fdesired')\n",
    "plt.plot(t,Fmarr,label = 'Fmeasured')\n",
    "plt.legend()"
   ]
  },
  {
   "cell_type": "code",
   "execution_count": 10,
   "metadata": {},
   "outputs": [
    {
     "name": "stdout",
     "output_type": "stream",
     "text": [
      "Energy (J)=  2.360574180612218\n"
     ]
    },
    {
     "data": {
      "text/plain": [
       "[<matplotlib.lines.Line2D at 0x7f0372990990>]"
      ]
     },
     "execution_count": 10,
     "metadata": {},
     "output_type": "execute_result"
    },
    {
     "data": {
      "image/png": "[encoded data removed]",
      "text/plain": [
       "<Figure size 432x288 with 1 Axes>"
      ]
     },
     "metadata": {
      "needs_background": "light"
     },
     "output_type": "display_data"
    }
   ],
   "source": [
    "#Energy definition\n",
    "#instantenous power\n",
    "power = np.multiply(Fext,-x4)\n",
    "energy = np.sum(deltat*power)\n",
    "print(\"Energy (J)= \", energy)\n",
    "\n",
    "plt.figure(2)\n",
    "plt.xlabel(\"time (s)\")\n",
    "plt.plot(t,power)"
   ]
  },
  {
   "cell_type": "code",
   "execution_count": 11,
   "metadata": {},
   "outputs": [
    {
     "data": {
      "text/plain": [
       "[<matplotlib.lines.Line2D at 0x7f0372984bd0>]"
      ]
     },
     "execution_count": 11,
     "metadata": {},
     "output_type": "execute_result"
    },
    {
     "data": {
      "image/png": "[encoded data removed]",
      "text/plain": [
       "<Figure size 432x288 with 1 Axes>"
      ]
     },
     "metadata": {
      "needs_background": "light"
     },
     "output_type": "display_data"
    }
   ],
   "source": [
    "plt.figure(2)\n",
    "plt.xlim(-0.001,1)\n",
    "plt.xlabel(\"time (s)\")\n",
    "plt.plot(t,uarr)\n",
    "\n"
   ]
  },
  {
   "cell_type": "code",
   "execution_count": null,
   "metadata": {},
   "outputs": [],
   "source": []
  },
  {
   "cell_type": "code",
   "execution_count": null,
   "metadata": {},
   "outputs": [],
   "source": []
  }
 ],
 "metadata": {
  "kernelspec": {
   "display_name": "Python 3.7.6 64-bit ('base': conda)",
   "language": "python",
   "name": "python37664bitbasecondad0da69248b054e87b5ddaa5c9e983988"
  },
  "language_info": {
   "codemirror_mode": {
    "name": "ipython",
    "version": 3
   },
   "file_extension": ".py",
   "mimetype": "text/x-python",
   "name": "python",
   "nbconvert_exporter": "python",
   "pygments_lexer": "ipython3",
   "version": "3.7.6"
  }
 },
 "nbformat": 4,
 "nbformat_minor": 2
}
